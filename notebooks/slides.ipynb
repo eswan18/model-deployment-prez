{
 "cells": [
  {
   "attachments": {},
   "cell_type": "markdown",
   "metadata": {
    "slideshow": {
     "slide_type": "slide"
    }
   },
   "source": [
    "# Model Deployment\n",
    "\n",
    "*Model formats, batch vs realtime predictions, and deployment pipelines*\n",
    "\n",
    "---\n",
    "\n",
    "Ethan Swan, 2023"
   ]
  },
  {
   "attachments": {},
   "cell_type": "markdown",
   "metadata": {
    "slideshow": {
     "slide_type": "slide"
    }
   },
   "source": [
    "# Agenda\n",
    "\n",
    "1. About Me\n",
    "2. Model Formats and Portability\n",
    "3. Batch vs Realtime Scoring\n",
    "4. Deployment Pipelines"
   ]
  },
  {
   "attachments": {},
   "cell_type": "markdown",
   "metadata": {
    "slideshow": {
     "slide_type": "slide"
    }
   },
   "source": [
    "# About Me\n",
    "\n",
    "- Senior Backend Developer at [ReviewTrackers](https://www.reviewtrackers.com/)\n",
    "    - Startup, ~100 employees\n",
    "    - SaaS platform for online reputation management\n",
    "- Analytics & ML Engineering Team\n",
    "- NLP Microservice (Python), Main API Layer (Go)"
   ]
  },
  {
   "attachments": {},
   "cell_type": "markdown",
   "metadata": {
    "slideshow": {
     "slide_type": "notes"
    }
   },
   "source": [
    "- Started in February 2022\n",
    "- Wanted to see a techy startup from the inside\n",
    "    - especially engineering practices"
   ]
  },
  {
   "attachments": {},
   "cell_type": "markdown",
   "metadata": {
    "slideshow": {
     "slide_type": "slide"
    }
   },
   "source": [
    "# About Me\n",
    "\n",
    "- Previously: [84.51˚](https://www.8451.com/)\n",
    "    - Marketing Analytics Branch of Kroger\n",
    "    - Lead Data Scientist - Internal Tools & Infrastructure\n",
    "- Education: University of Notre Dame\n",
    "    - B.S. in Computer Science\n",
    "    - M.B.A."
   ]
  },
  {
   "attachments": {},
   "cell_type": "markdown",
   "metadata": {
    "slideshow": {
     "slide_type": "notes"
    }
   },
   "source": [
    "- 8451:\n",
    "    - Did some measurement work\n",
    "    - quickly transitioned to functional support\n",
    "    - taught classses and helped with tech strategy"
   ]
  },
  {
   "attachments": {},
   "cell_type": "markdown",
   "metadata": {},
   "source": [
    "# ..."
   ]
  }
 ],
 "metadata": {
  "language_info": {
   "name": "python"
  },
  "orig_nbformat": 4
 },
 "nbformat": 4,
 "nbformat_minor": 2
}
